{
 "cells": [
  {
   "cell_type": "code",
   "execution_count": 2,
   "id": "3078eb73",
   "metadata": {},
   "outputs": [],
   "source": [
    "# Importing the necessary libraries\n",
    "import pandas as pd\n",
    "import numpy as np\n",
    "import matplotlib.pyplot as plt\n",
    "\n",
    "from statsmodels.tsa.stattools import adfuller\n",
    "from statsmodels.graphics.tsaplots import plot_acf, plot_pacf\n",
    "from statsmodels.tsa.api import VAR\n",
    "\n",
    "import warnings\n",
    "warnings.filterwarnings('ignore')"
   ]
  },
  {
   "cell_type": "code",
   "execution_count": 3,
   "id": "eb372423",
   "metadata": {},
   "outputs": [],
   "source": [
    "# Color theme for visualizations\n",
    "JAPAN_RED = '#C1272D'\n",
    "JAPAN_WHITE = '#FFFFFF'\n",
    "CHARCOAL = '#2C2C2C'\n",
    "LIGHT_GREY = '#F5F5F5'\n",
    "ACCENT_RED = '#D91E10'"
   ]
  },
  {
   "cell_type": "code",
   "execution_count": 4,
   "id": "f0c91152",
   "metadata": {},
   "outputs": [],
   "source": [
    "# Plotting Parameters for visualizations\n",
    "plt.rcParams['figure.facecolor'] = LIGHT_GREY\n",
    "plt.rcParams['axes.facecolor'] = JAPAN_WHITE\n",
    "plt.rcParams['axes.edgecolor'] = CHARCOAL\n",
    "plt.rcParams['xtick.color'] = CHARCOAL\n",
    "plt.rcParams['ytick.color'] = CHARCOAL\n",
    "plt.rcParams['text.color'] = CHARCOAL\n",
    "plt.rcParams['grid.color'] = '#E0E0E0'\n",
    "plt.rcParams['grid.alpha'] = 0.5"
   ]
  },
  {
   "cell_type": "code",
   "execution_count": 12,
   "id": "63f9b68e",
   "metadata": {},
   "outputs": [
    {
     "data": {
      "text/html": [
       "<div>\n",
       "<style scoped>\n",
       "    .dataframe tbody tr th:only-of-type {\n",
       "        vertical-align: middle;\n",
       "    }\n",
       "\n",
       "    .dataframe tbody tr th {\n",
       "        vertical-align: top;\n",
       "    }\n",
       "\n",
       "    .dataframe thead th {\n",
       "        text-align: right;\n",
       "    }\n",
       "</style>\n",
       "<table border=\"1\" class=\"dataframe\">\n",
       "  <thead>\n",
       "    <tr style=\"text-align: right;\">\n",
       "      <th></th>\n",
       "      <th>GDP_per_capita</th>\n",
       "      <th>Consumption_per_capita</th>\n",
       "    </tr>\n",
       "    <tr>\n",
       "      <th>Year</th>\n",
       "      <th></th>\n",
       "      <th></th>\n",
       "    </tr>\n",
       "  </thead>\n",
       "  <tbody>\n",
       "    <tr>\n",
       "      <th>1974-01-01</th>\n",
       "      <td>4448.319656</td>\n",
       "      <td>2110.683134</td>\n",
       "    </tr>\n",
       "    <tr>\n",
       "      <th>1975-01-01</th>\n",
       "      <td>4775.899536</td>\n",
       "      <td>2384.062416</td>\n",
       "    </tr>\n",
       "    <tr>\n",
       "      <th>1976-01-01</th>\n",
       "      <td>5310.431409</td>\n",
       "      <td>2667.407194</td>\n",
       "    </tr>\n",
       "    <tr>\n",
       "      <th>1977-01-01</th>\n",
       "      <td>6472.787787</td>\n",
       "      <td>3262.015600</td>\n",
       "    </tr>\n",
       "    <tr>\n",
       "      <th>1978-01-01</th>\n",
       "      <td>9012.136035</td>\n",
       "      <td>4542.051021</td>\n",
       "    </tr>\n",
       "  </tbody>\n",
       "</table>\n",
       "</div>"
      ],
      "text/plain": [
       "            GDP_per_capita  Consumption_per_capita\n",
       "Year                                              \n",
       "1974-01-01     4448.319656             2110.683134\n",
       "1975-01-01     4775.899536             2384.062416\n",
       "1976-01-01     5310.431409             2667.407194\n",
       "1977-01-01     6472.787787             3262.015600\n",
       "1978-01-01     9012.136035             4542.051021"
      ]
     },
     "execution_count": 12,
     "metadata": {},
     "output_type": "execute_result"
    }
   ],
   "source": [
    "# Loading the data file\n",
    "df = pd.read_csv('japan_data.csv',index_col = 0, parse_dates=True)\n",
    "df.head()"
   ]
  },
  {
   "cell_type": "code",
   "execution_count": 6,
   "id": "e2f76e83",
   "metadata": {},
   "outputs": [
    {
     "name": "stdout",
     "output_type": "stream",
     "text": [
      "Shape of the dataset is (49, 2)\n"
     ]
    }
   ],
   "source": [
    "# Basic Exploratory Data Analysis - Shape of the dataset\n",
    "print(f\"Shape of the dataset is {df.shape}\")"
   ]
  },
  {
   "cell_type": "code",
   "execution_count": 9,
   "id": "74c75407",
   "metadata": {},
   "outputs": [
    {
     "name": "stdout",
     "output_type": "stream",
     "text": [
      "The columns are: ['GDP_per_capita', 'Consumption_per_capita']\n"
     ]
    }
   ],
   "source": [
    "# Basic Exploratory Data Analysis - Columns\n",
    "print(f\"The columns are: {list(df.columns)}\")"
   ]
  },
  {
   "cell_type": "code",
   "execution_count": 11,
   "id": "63ede96f",
   "metadata": {},
   "outputs": [
    {
     "name": "stdout",
     "output_type": "stream",
     "text": [
      "Year Range: 1974 to 2022\n"
     ]
    }
   ],
   "source": [
    "# Basic Exploratory Data Analysis - Range of dates\n",
    "print(f\"Year Range: {df.index[0].strftime('%Y')} to {df.index[-1].strftime('%Y')}\")"
   ]
  },
  {
   "cell_type": "code",
   "execution_count": 14,
   "id": "b0885333",
   "metadata": {},
   "outputs": [],
   "source": [
    "# Calculation of growth rates\n",
    "# Growth rate = ((X_t - X_t-1) / (X_t-1)) * 100\n",
    "df['GDP_growth'] = df['GDP_per_capita'].pct_change() * 100\n",
    "df['Consumption_growth'] = df['Consumption_per_capita'].pct_change() * 100"
   ]
  },
  {
   "cell_type": "code",
   "execution_count": 18,
   "id": "e3204e3a",
   "metadata": {},
   "outputs": [
    {
     "data": {
      "text/html": [
       "<div>\n",
       "<style scoped>\n",
       "    .dataframe tbody tr th:only-of-type {\n",
       "        vertical-align: middle;\n",
       "    }\n",
       "\n",
       "    .dataframe tbody tr th {\n",
       "        vertical-align: top;\n",
       "    }\n",
       "\n",
       "    .dataframe thead th {\n",
       "        text-align: right;\n",
       "    }\n",
       "</style>\n",
       "<table border=\"1\" class=\"dataframe\">\n",
       "  <thead>\n",
       "    <tr style=\"text-align: right;\">\n",
       "      <th></th>\n",
       "      <th>GDP_growth</th>\n",
       "      <th>Consumption_growth</th>\n",
       "    </tr>\n",
       "    <tr>\n",
       "      <th>Year</th>\n",
       "      <th></th>\n",
       "      <th></th>\n",
       "    </tr>\n",
       "  </thead>\n",
       "  <tbody>\n",
       "    <tr>\n",
       "      <th>1975-01-01</th>\n",
       "      <td>7.364126</td>\n",
       "      <td>12.952171</td>\n",
       "    </tr>\n",
       "    <tr>\n",
       "      <th>1976-01-01</th>\n",
       "      <td>11.192276</td>\n",
       "      <td>11.884956</td>\n",
       "    </tr>\n",
       "    <tr>\n",
       "      <th>1977-01-01</th>\n",
       "      <td>21.888172</td>\n",
       "      <td>22.291625</td>\n",
       "    </tr>\n",
       "    <tr>\n",
       "      <th>1978-01-01</th>\n",
       "      <td>39.231137</td>\n",
       "      <td>39.240628</td>\n",
       "    </tr>\n",
       "    <tr>\n",
       "      <th>1979-01-01</th>\n",
       "      <td>3.206923</td>\n",
       "      <td>5.043940</td>\n",
       "    </tr>\n",
       "  </tbody>\n",
       "</table>\n",
       "</div>"
      ],
      "text/plain": [
       "            GDP_growth  Consumption_growth\n",
       "Year                                      \n",
       "1975-01-01    7.364126           12.952171\n",
       "1976-01-01   11.192276           11.884956\n",
       "1977-01-01   21.888172           22.291625\n",
       "1978-01-01   39.231137           39.240628\n",
       "1979-01-01    3.206923            5.043940"
      ]
     },
     "execution_count": 18,
     "metadata": {},
     "output_type": "execute_result"
    }
   ],
   "source": [
    "# Remove the NaN values\n",
    "df_growth = df[['GDP_growth','Consumption_growth']].dropna()\n",
    "df_growth.head()"
   ]
  },
  {
   "cell_type": "code",
   "execution_count": 20,
   "id": "07c73f9e",
   "metadata": {},
   "outputs": [
    {
     "data": {
      "text/html": [
       "<div>\n",
       "<style scoped>\n",
       "    .dataframe tbody tr th:only-of-type {\n",
       "        vertical-align: middle;\n",
       "    }\n",
       "\n",
       "    .dataframe tbody tr th {\n",
       "        vertical-align: top;\n",
       "    }\n",
       "\n",
       "    .dataframe thead th {\n",
       "        text-align: right;\n",
       "    }\n",
       "</style>\n",
       "<table border=\"1\" class=\"dataframe\">\n",
       "  <thead>\n",
       "    <tr style=\"text-align: right;\">\n",
       "      <th></th>\n",
       "      <th>GDP_growth</th>\n",
       "      <th>Consumption_growth</th>\n",
       "    </tr>\n",
       "  </thead>\n",
       "  <tbody>\n",
       "    <tr>\n",
       "      <th>count</th>\n",
       "      <td>48.000000</td>\n",
       "      <td>48.000000</td>\n",
       "    </tr>\n",
       "    <tr>\n",
       "      <th>mean</th>\n",
       "      <td>4.993866</td>\n",
       "      <td>5.326359</td>\n",
       "    </tr>\n",
       "    <tr>\n",
       "      <th>std</th>\n",
       "      <td>12.257339</td>\n",
       "      <td>12.175036</td>\n",
       "    </tr>\n",
       "    <tr>\n",
       "      <th>min</th>\n",
       "      <td>-16.780111</td>\n",
       "      <td>-16.117369</td>\n",
       "    </tr>\n",
       "    <tr>\n",
       "      <th>25%</th>\n",
       "      <td>-1.295644</td>\n",
       "      <td>-1.609774</td>\n",
       "    </tr>\n",
       "    <tr>\n",
       "      <th>50%</th>\n",
       "      <td>4.583284</td>\n",
       "      <td>4.880239</td>\n",
       "    </tr>\n",
       "    <tr>\n",
       "      <th>75%</th>\n",
       "      <td>10.074056</td>\n",
       "      <td>11.001770</td>\n",
       "    </tr>\n",
       "    <tr>\n",
       "      <th>max</th>\n",
       "      <td>47.778429</td>\n",
       "      <td>46.828434</td>\n",
       "    </tr>\n",
       "  </tbody>\n",
       "</table>\n",
       "</div>"
      ],
      "text/plain": [
       "       GDP_growth  Consumption_growth\n",
       "count   48.000000           48.000000\n",
       "mean     4.993866            5.326359\n",
       "std     12.257339           12.175036\n",
       "min    -16.780111          -16.117369\n",
       "25%     -1.295644           -1.609774\n",
       "50%      4.583284            4.880239\n",
       "75%     10.074056           11.001770\n",
       "max     47.778429           46.828434"
      ]
     },
     "execution_count": 20,
     "metadata": {},
     "output_type": "execute_result"
    }
   ],
   "source": [
    "# Descriptive statistics for the growth dataframe\n",
    "df_growth.describe()"
   ]
  },
  {
   "cell_type": "code",
   "execution_count": null,
   "id": "ef5c8b51",
   "metadata": {},
   "outputs": [],
   "source": []
  }
 ],
 "metadata": {
  "kernelspec": {
   "display_name": "Python 3",
   "language": "python",
   "name": "python3"
  },
  "language_info": {
   "codemirror_mode": {
    "name": "ipython",
    "version": 3
   },
   "file_extension": ".py",
   "mimetype": "text/x-python",
   "name": "python",
   "nbconvert_exporter": "python",
   "pygments_lexer": "ipython3",
   "version": "3.13.5"
  }
 },
 "nbformat": 4,
 "nbformat_minor": 5
}
